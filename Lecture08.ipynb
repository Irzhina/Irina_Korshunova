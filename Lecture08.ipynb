{
 "cells": [
  {
   "cell_type": "code",
   "execution_count": null,
   "metadata": {},
   "outputs": [],
   "source": [
    "   \n",
    "\n"
   ]
  },
  {
   "cell_type": "code",
   "execution_count": 22,
   "metadata": {},
   "outputs": [
    {
     "name": "stdout",
     "output_type": "stream",
     "text": [
      "190\n",
      "<__main__.Vehicle object at 0x05CB8FE8>\n"
     ]
    }
   ],
   "source": [
    "class Vehicle:\n",
    "    def set_value(self, value):\n",
    "        self.value = value\n",
    "        \n",
    "    def get_value(self):\n",
    "        return self.value\n",
    "    \n",
    "    def __init__(self, value = 0):\n",
    "        self._value = value\n",
    "        \n",
    "    def __add__(self, other):\n",
    "        result = Vehicle()\n",
    "        result._value = self._value + other._value\n",
    "        return result\n",
    "    \n",
    "max_speed = Vehicle()\n",
    "mileage = Vehicle()\n",
    "capacity = Vehicle()\n",
    "name = Vehicle()\n",
    "\n",
    "\n",
    "#max_speed.set_value(\"180\")\n",
    "\n",
    "Vehicle.set_value(max_speed, \"190\")\n",
    "\n",
    "print(max_speed.value)\n",
    "print(name)"
   ]
  },
  {
   "cell_type": "code",
   "execution_count": null,
   "metadata": {},
   "outputs": [],
   "source": []
  },
  {
   "cell_type": "code",
   "execution_count": null,
   "metadata": {},
   "outputs": [],
   "source": []
  }
 ],
 "metadata": {
  "kernelspec": {
   "display_name": "Python 3",
   "language": "python",
   "name": "python3"
  },
  "language_info": {
   "codemirror_mode": {
    "name": "ipython",
    "version": 3
   },
   "file_extension": ".py",
   "mimetype": "text/x-python",
   "name": "python",
   "nbconvert_exporter": "python",
   "pygments_lexer": "ipython3",
   "version": "3.8.3"
  }
 },
 "nbformat": 4,
 "nbformat_minor": 4
}
